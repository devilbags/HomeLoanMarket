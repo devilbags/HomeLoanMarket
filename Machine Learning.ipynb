{
 "cells": [
  {
   "cell_type": "code",
   "execution_count": 1,
   "metadata": {
    "collapsed": false,
    "deletable": true,
    "editable": true
   },
   "outputs": [
    {
     "name": "stderr",
     "output_type": "stream",
     "text": [
      "/Users/DogMaster/Desktop/CapitalOne/venv/lib/python3.6/site-packages/sklearn/cross_validation.py:44: DeprecationWarning: This module was deprecated in version 0.18 in favor of the model_selection module into which all the refactored classes and functions are moved. Also note that the interface of the new CV iterators are different from that of this module. This module will be removed in 0.20.\n",
      "  \"This module will be removed in 0.20.\", DeprecationWarning)\n"
     ]
    }
   ],
   "source": [
    "import sys, os\n",
    "path = os.path.realpath('./scripts/')\n",
    "sys.path.append(path)\n",
    "import pandas as pd\n",
    "pd.options.display.max_columns = 100\n",
    "from sklearn import datasets, svm, cross_validation, tree, preprocessing, metrics\n",
    "import sklearn.ensemble as ske\n",
    "from mung import DataSource"
   ]
  },
  {
   "cell_type": "code",
   "execution_count": 2,
   "metadata": {
    "collapsed": false,
    "deletable": true,
    "editable": true
   },
   "outputs": [
    {
     "name": "stdout",
     "output_type": "stream",
     "text": [
      "Data Quality Report\n",
      "Total records:1321158\n"
     ]
    },
    {
     "data": {
      "text/html": [
       "<div>\n",
       "<table border=\"1\" class=\"dataframe\">\n",
       "  <thead>\n",
       "    <tr style=\"text-align: right;\">\n",
       "      <th></th>\n",
       "      <th>Data Type</th>\n",
       "      <th>Present Values</th>\n",
       "      <th>Missing Values</th>\n",
       "      <th>Unique Values</th>\n",
       "      <th>Minimum Values</th>\n",
       "      <th>Maximum Values</th>\n",
       "    </tr>\n",
       "  </thead>\n",
       "  <tbody>\n",
       "    <tr>\n",
       "      <th>Agency_Code</th>\n",
       "      <td>int64</td>\n",
       "      <td>1321158</td>\n",
       "      <td>0</td>\n",
       "      <td>6.0</td>\n",
       "      <td>NaN</td>\n",
       "      <td>NaN</td>\n",
       "    </tr>\n",
       "    <tr>\n",
       "      <th>Applicant_Income_000</th>\n",
       "      <td>float64</td>\n",
       "      <td>1203305</td>\n",
       "      <td>117853</td>\n",
       "      <td>2175.0</td>\n",
       "      <td>0.00</td>\n",
       "      <td>9999.00</td>\n",
       "    </tr>\n",
       "    <tr>\n",
       "      <th>As_of_Year</th>\n",
       "      <td>int64</td>\n",
       "      <td>1321158</td>\n",
       "      <td>0</td>\n",
       "      <td>3.0</td>\n",
       "      <td>NaN</td>\n",
       "      <td>NaN</td>\n",
       "    </tr>\n",
       "    <tr>\n",
       "      <th>Census_Tract_Number</th>\n",
       "      <td>object</td>\n",
       "      <td>1321158</td>\n",
       "      <td>0</td>\n",
       "      <td>3019.0</td>\n",
       "      <td>NaN</td>\n",
       "      <td>NaN</td>\n",
       "    </tr>\n",
       "    <tr>\n",
       "      <th>County_Code</th>\n",
       "      <td>float64</td>\n",
       "      <td>1320321</td>\n",
       "      <td>837</td>\n",
       "      <td>136.0</td>\n",
       "      <td>NaN</td>\n",
       "      <td>NaN</td>\n",
       "    </tr>\n",
       "    <tr>\n",
       "      <th>FFIEC_Median_Family_Income</th>\n",
       "      <td>float64</td>\n",
       "      <td>1319481</td>\n",
       "      <td>1677</td>\n",
       "      <td>71.0</td>\n",
       "      <td>45300.00</td>\n",
       "      <td>113400.00</td>\n",
       "    </tr>\n",
       "    <tr>\n",
       "      <th>Loan_Amount_000</th>\n",
       "      <td>int64</td>\n",
       "      <td>1321158</td>\n",
       "      <td>0</td>\n",
       "      <td>2944.0</td>\n",
       "      <td>1.00</td>\n",
       "      <td>99625.00</td>\n",
       "    </tr>\n",
       "    <tr>\n",
       "      <th>MSA_MD</th>\n",
       "      <td>object</td>\n",
       "      <td>1321158</td>\n",
       "      <td>0</td>\n",
       "      <td>30.0</td>\n",
       "      <td>NaN</td>\n",
       "      <td>NaN</td>\n",
       "    </tr>\n",
       "    <tr>\n",
       "      <th>Number_of_Owner_Occupied_Units</th>\n",
       "      <td>float64</td>\n",
       "      <td>1319284</td>\n",
       "      <td>1874</td>\n",
       "      <td>1795.0</td>\n",
       "      <td>4.00</td>\n",
       "      <td>3632.00</td>\n",
       "    </tr>\n",
       "    <tr>\n",
       "      <th>Respondent_ID</th>\n",
       "      <td>object</td>\n",
       "      <td>1321158</td>\n",
       "      <td>0</td>\n",
       "      <td>1384.0</td>\n",
       "      <td>NaN</td>\n",
       "      <td>NaN</td>\n",
       "    </tr>\n",
       "    <tr>\n",
       "      <th>Sequence_Number</th>\n",
       "      <td>int64</td>\n",
       "      <td>1321158</td>\n",
       "      <td>0</td>\n",
       "      <td>403227.0</td>\n",
       "      <td>NaN</td>\n",
       "      <td>NaN</td>\n",
       "    </tr>\n",
       "    <tr>\n",
       "      <th>State_Code</th>\n",
       "      <td>int64</td>\n",
       "      <td>1321158</td>\n",
       "      <td>0</td>\n",
       "      <td>5.0</td>\n",
       "      <td>NaN</td>\n",
       "      <td>NaN</td>\n",
       "    </tr>\n",
       "    <tr>\n",
       "      <th>Tract_to_MSA_MD_Income_Pct</th>\n",
       "      <td>float64</td>\n",
       "      <td>1318445</td>\n",
       "      <td>2713</td>\n",
       "      <td>5248.0</td>\n",
       "      <td>4.96</td>\n",
       "      <td>350.67</td>\n",
       "    </tr>\n",
       "    <tr>\n",
       "      <th>MSA_MD_Description</th>\n",
       "      <td>object</td>\n",
       "      <td>1225941</td>\n",
       "      <td>95217</td>\n",
       "      <td>32.0</td>\n",
       "      <td>NaN</td>\n",
       "      <td>NaN</td>\n",
       "    </tr>\n",
       "    <tr>\n",
       "      <th>Loan_Purpose_Description</th>\n",
       "      <td>object</td>\n",
       "      <td>1321158</td>\n",
       "      <td>0</td>\n",
       "      <td>2.0</td>\n",
       "      <td>NaN</td>\n",
       "      <td>NaN</td>\n",
       "    </tr>\n",
       "    <tr>\n",
       "      <th>Agency_Code_Description</th>\n",
       "      <td>object</td>\n",
       "      <td>1321158</td>\n",
       "      <td>0</td>\n",
       "      <td>6.0</td>\n",
       "      <td>NaN</td>\n",
       "      <td>NaN</td>\n",
       "    </tr>\n",
       "    <tr>\n",
       "      <th>Lien_Status_Description</th>\n",
       "      <td>object</td>\n",
       "      <td>1321158</td>\n",
       "      <td>0</td>\n",
       "      <td>2.0</td>\n",
       "      <td>NaN</td>\n",
       "      <td>NaN</td>\n",
       "    </tr>\n",
       "    <tr>\n",
       "      <th>Loan_Type_Description</th>\n",
       "      <td>object</td>\n",
       "      <td>1321158</td>\n",
       "      <td>0</td>\n",
       "      <td>4.0</td>\n",
       "      <td>NaN</td>\n",
       "      <td>NaN</td>\n",
       "    </tr>\n",
       "    <tr>\n",
       "      <th>State</th>\n",
       "      <td>object</td>\n",
       "      <td>1321158</td>\n",
       "      <td>0</td>\n",
       "      <td>5.0</td>\n",
       "      <td>NaN</td>\n",
       "      <td>NaN</td>\n",
       "    </tr>\n",
       "    <tr>\n",
       "      <th>County_Name</th>\n",
       "      <td>object</td>\n",
       "      <td>1320321</td>\n",
       "      <td>837</td>\n",
       "      <td>210.0</td>\n",
       "      <td>NaN</td>\n",
       "      <td>NaN</td>\n",
       "    </tr>\n",
       "    <tr>\n",
       "      <th>Conforming_Limit_000</th>\n",
       "      <td>float64</td>\n",
       "      <td>1320321</td>\n",
       "      <td>837</td>\n",
       "      <td>7.0</td>\n",
       "      <td>417.00</td>\n",
       "      <td>625.00</td>\n",
       "    </tr>\n",
       "    <tr>\n",
       "      <th>Conventional_Status</th>\n",
       "      <td>object</td>\n",
       "      <td>1321158</td>\n",
       "      <td>0</td>\n",
       "      <td>2.0</td>\n",
       "      <td>NaN</td>\n",
       "      <td>NaN</td>\n",
       "    </tr>\n",
       "    <tr>\n",
       "      <th>Conforming_Status</th>\n",
       "      <td>object</td>\n",
       "      <td>1321158</td>\n",
       "      <td>0</td>\n",
       "      <td>2.0</td>\n",
       "      <td>NaN</td>\n",
       "      <td>NaN</td>\n",
       "    </tr>\n",
       "    <tr>\n",
       "      <th>Conventional_Conforming_Flag</th>\n",
       "      <td>bool</td>\n",
       "      <td>1321158</td>\n",
       "      <td>0</td>\n",
       "      <td>2.0</td>\n",
       "      <td>NaN</td>\n",
       "      <td>NaN</td>\n",
       "    </tr>\n",
       "    <tr>\n",
       "      <th>Respondent_Name_TS</th>\n",
       "      <td>object</td>\n",
       "      <td>1321158</td>\n",
       "      <td>0</td>\n",
       "      <td>1353.0</td>\n",
       "      <td>NaN</td>\n",
       "      <td>NaN</td>\n",
       "    </tr>\n",
       "    <tr>\n",
       "      <th>Loan_Amount_Groupby_Purpose</th>\n",
       "      <td>int64</td>\n",
       "      <td>1321158</td>\n",
       "      <td>0</td>\n",
       "      <td>3.0</td>\n",
       "      <td>NaN</td>\n",
       "      <td>NaN</td>\n",
       "    </tr>\n",
       "    <tr>\n",
       "      <th>Income_Group</th>\n",
       "      <td>float64</td>\n",
       "      <td>1203305</td>\n",
       "      <td>117853</td>\n",
       "      <td>719.0</td>\n",
       "      <td>NaN</td>\n",
       "      <td>NaN</td>\n",
       "    </tr>\n",
       "  </tbody>\n",
       "</table>\n",
       "</div>"
      ],
      "text/plain": [
       "                               Data Type  Present Values  Missing Values  \\\n",
       "Agency_Code                        int64         1321158               0   \n",
       "Applicant_Income_000             float64         1203305          117853   \n",
       "As_of_Year                         int64         1321158               0   \n",
       "Census_Tract_Number               object         1321158               0   \n",
       "County_Code                      float64         1320321             837   \n",
       "FFIEC_Median_Family_Income       float64         1319481            1677   \n",
       "Loan_Amount_000                    int64         1321158               0   \n",
       "MSA_MD                            object         1321158               0   \n",
       "Number_of_Owner_Occupied_Units   float64         1319284            1874   \n",
       "Respondent_ID                     object         1321158               0   \n",
       "Sequence_Number                    int64         1321158               0   \n",
       "State_Code                         int64         1321158               0   \n",
       "Tract_to_MSA_MD_Income_Pct       float64         1318445            2713   \n",
       "MSA_MD_Description                object         1225941           95217   \n",
       "Loan_Purpose_Description          object         1321158               0   \n",
       "Agency_Code_Description           object         1321158               0   \n",
       "Lien_Status_Description           object         1321158               0   \n",
       "Loan_Type_Description             object         1321158               0   \n",
       "State                             object         1321158               0   \n",
       "County_Name                       object         1320321             837   \n",
       "Conforming_Limit_000             float64         1320321             837   \n",
       "Conventional_Status               object         1321158               0   \n",
       "Conforming_Status                 object         1321158               0   \n",
       "Conventional_Conforming_Flag        bool         1321158               0   \n",
       "Respondent_Name_TS                object         1321158               0   \n",
       "Loan_Amount_Groupby_Purpose        int64         1321158               0   \n",
       "Income_Group                     float64         1203305          117853   \n",
       "\n",
       "                                Unique Values  Minimum Values  Maximum Values  \n",
       "Agency_Code                               6.0             NaN             NaN  \n",
       "Applicant_Income_000                   2175.0            0.00         9999.00  \n",
       "As_of_Year                                3.0             NaN             NaN  \n",
       "Census_Tract_Number                    3019.0             NaN             NaN  \n",
       "County_Code                             136.0             NaN             NaN  \n",
       "FFIEC_Median_Family_Income               71.0        45300.00       113400.00  \n",
       "Loan_Amount_000                        2944.0            1.00        99625.00  \n",
       "MSA_MD                                   30.0             NaN             NaN  \n",
       "Number_of_Owner_Occupied_Units         1795.0            4.00         3632.00  \n",
       "Respondent_ID                          1384.0             NaN             NaN  \n",
       "Sequence_Number                      403227.0             NaN             NaN  \n",
       "State_Code                                5.0             NaN             NaN  \n",
       "Tract_to_MSA_MD_Income_Pct             5248.0            4.96          350.67  \n",
       "MSA_MD_Description                       32.0             NaN             NaN  \n",
       "Loan_Purpose_Description                  2.0             NaN             NaN  \n",
       "Agency_Code_Description                   6.0             NaN             NaN  \n",
       "Lien_Status_Description                   2.0             NaN             NaN  \n",
       "Loan_Type_Description                     4.0             NaN             NaN  \n",
       "State                                     5.0             NaN             NaN  \n",
       "County_Name                             210.0             NaN             NaN  \n",
       "Conforming_Limit_000                      7.0          417.00          625.00  \n",
       "Conventional_Status                       2.0             NaN             NaN  \n",
       "Conforming_Status                         2.0             NaN             NaN  \n",
       "Conventional_Conforming_Flag              2.0             NaN             NaN  \n",
       "Respondent_Name_TS                     1353.0             NaN             NaN  \n",
       "Loan_Amount_Groupby_Purpose               3.0             NaN             NaN  \n",
       "Income_Group                            719.0             NaN             NaN  "
      ]
     },
     "execution_count": 2,
     "metadata": {},
     "output_type": "execute_result"
    }
   ],
   "source": [
    "loans_csv = open('input_data/2012_to_2014_loans_data.csv')\n",
    "institutions_csv = open('input_data/2012_to_2014_institutions_data.csv')\n",
    "source = DataSource(loans_csv=loans_csv,institutions_csv=institutions_csv)\n",
    "df = source.hmda_init()\n",
    "df.describe()\n",
    "source.quality"
   ]
  },
  {
   "cell_type": "code",
   "execution_count": 3,
   "metadata": {
    "collapsed": false,
    "deletable": true,
    "editable": true
   },
   "outputs": [
    {
     "data": {
      "text/plain": [
       "array(['Applicant_Income_000', 'As_of_Year', 'Census_Tract_Number',\n",
       "       'FFIEC_Median_Family_Income', 'Number_of_Owner_Occupied_Units',\n",
       "       'State_Code', 'Tract_to_MSA_MD_Income_Pct',\n",
       "       'Loan_Purpose_Description', 'Conforming_Limit_000'], dtype=object)"
      ]
     },
     "execution_count": 3,
     "metadata": {},
     "output_type": "execute_result"
    }
   ],
   "source": [
    "# Drop some coloumns for better performance\n",
    "df = df.drop(['Agency_Code','County_Code','MSA_MD','Sequence_Number','MSA_MD_Description','Agency_Code_Description','Loan_Type_Description','State','County_Name','Conventional_Status','Conforming_Status','Conventional_Conforming_Flag','Respondent_Name_TS','Loan_Amount_Groupby_Purpose','Income_Group','Loan_Amount_000','Respondent_ID','Lien_Status_Description'],axis=1)\n",
    "df.columns.values"
   ]
  },
  {
   "cell_type": "code",
   "execution_count": 4,
   "metadata": {
    "collapsed": false,
    "deletable": true,
    "editable": true
   },
   "outputs": [
    {
     "name": "stdout",
     "output_type": "stream",
     "text": [
      "<class 'pandas.core.frame.DataFrame'>\n",
      "Int64Index: 1200657 entries, 0 to 1320857\n",
      "Data columns (total 9 columns):\n",
      "Applicant_Income_000              1200657 non-null float64\n",
      "As_of_Year                        1200657 non-null int64\n",
      "Census_Tract_Number               1200657 non-null object\n",
      "FFIEC_Median_Family_Income        1200657 non-null float64\n",
      "Number_of_Owner_Occupied_Units    1200657 non-null float64\n",
      "State_Code                        1200657 non-null int64\n",
      "Tract_to_MSA_MD_Income_Pct        1200657 non-null float64\n",
      "Loan_Purpose_Description          1200657 non-null object\n",
      "Conforming_Limit_000              1200657 non-null float64\n",
      "dtypes: float64(5), int64(2), object(2)\n",
      "memory usage: 91.6+ MB\n"
     ]
    }
   ],
   "source": [
    "# Because Scikit is not suitable to process missing values, here we will drop all rows with missing values\n",
    "df = df.dropna()\n",
    "df.info()"
   ]
  },
  {
   "cell_type": "code",
   "execution_count": 5,
   "metadata": {
    "collapsed": true,
    "deletable": true,
    "editable": true
   },
   "outputs": [],
   "source": [
    "# Process the data in preparation for machine learning algo (Categorize)\n",
    "def preprocess_dataframe(dataframe):\n",
    "    processed_df = dataframe.copy()\n",
    "    le = preprocessing.LabelEncoder()\n",
    "#     Convert string object to categorical variables\n",
    "    processed_df.Census_Tract_Number = le.fit_transform(processed_df.Census_Tract_Number)\n",
    "    processed_df.Loan_Purpose_Description = le.fit_transform(processed_df.Loan_Purpose_Description)\n",
    "    return processed_df\n",
    "# Process our loan data\n",
    "processed_df = preprocess_dataframe(df)"
   ]
  },
  {
   "cell_type": "code",
   "execution_count": 6,
   "metadata": {
    "collapsed": true,
    "deletable": true,
    "editable": true
   },
   "outputs": [],
   "source": [
    "x = processed_df.drop(['Loan_Purpose_Description'],axis=1).values\n",
    "y = processed_df['Loan_Purpose_Description'].values\n",
    "x_train,x_test,y_train,y_test = cross_validation.train_test_split(x,y,test_size=0.2)"
   ]
  },
  {
   "cell_type": "code",
   "execution_count": 7,
   "metadata": {
    "collapsed": false,
    "deletable": true,
    "editable": true
   },
   "outputs": [],
   "source": [
    "shuffle_validator = cross_validation.ShuffleSplit(len(x), n_iter=20, test_size=0.2, random_state=0)\n",
    "def test_classifier(clf):\n",
    "    scores = cross_validation.cross_val_score(clf, x, y, cv=shuffle_validator)\n",
    "    print(\"Accuracy: %0.4f (+/- %0.2f)\" % (scores.mean(), scores.std()))"
   ]
  },
  {
   "cell_type": "code",
   "execution_count": null,
   "metadata": {
    "collapsed": false,
    "deletable": true,
    "editable": true
   },
   "outputs": [],
   "source": [
    "# Decision Tree\n",
    "clf_dt = tree.DecisionTreeClassifier(max_depth=12)\n",
    "test_classifier(clf_dt)"
   ]
  },
  {
   "cell_type": "code",
   "execution_count": 9,
   "metadata": {
    "collapsed": false,
    "deletable": true,
    "editable": true
   },
   "outputs": [
    {
     "data": {
      "text/plain": [
       "0.60042809787949958"
      ]
     },
     "execution_count": 9,
     "metadata": {},
     "output_type": "execute_result"
    }
   ],
   "source": [
    "# Random Forest\n",
    "clf_rf = ske.RandomForestClassifier(n_estimators=50)\n",
    "clf_rf.fit(x_train,y_train)\n",
    "clf_rf.score(x_test,y_test)"
   ]
  },
  {
   "cell_type": "code",
   "execution_count": 10,
   "metadata": {
    "collapsed": false,
    "deletable": true,
    "editable": true
   },
   "outputs": [
    {
     "name": "stdout",
     "output_type": "stream",
     "text": [
      "Accuracy: 0.6530 (+/- 0.00)\n"
     ]
    }
   ],
   "source": [
    "# Gradient Boosting\n",
    "clf_gb = ske.GradientBoostingClassifier(n_estimators=50)\n",
    "test_classifier(clf_gb)"
   ]
  },
  {
   "cell_type": "code",
   "execution_count": null,
   "metadata": {
    "collapsed": true,
    "deletable": true,
    "editable": true
   },
   "outputs": [],
   "source": [
    "# Voting\n",
    "eclf = ske.VotingClassifier([('dt', clf_dt), ('rf', clf_rf), ('gb', clf_gb)])\n",
    "test_classifier(eclf)"
   ]
  },
  {
   "cell_type": "code",
   "execution_count": null,
   "metadata": {
    "collapsed": true,
    "deletable": true,
    "editable": true
   },
   "outputs": [],
   "source": []
  }
 ],
 "metadata": {
  "kernelspec": {
   "display_name": "Python 3",
   "language": "python",
   "name": "python3"
  },
  "language_info": {
   "codemirror_mode": {
    "name": "ipython",
    "version": 3
   },
   "file_extension": ".py",
   "mimetype": "text/x-python",
   "name": "python",
   "nbconvert_exporter": "python",
   "pygments_lexer": "ipython3",
   "version": "3.6.0"
  }
 },
 "nbformat": 4,
 "nbformat_minor": 2
}
